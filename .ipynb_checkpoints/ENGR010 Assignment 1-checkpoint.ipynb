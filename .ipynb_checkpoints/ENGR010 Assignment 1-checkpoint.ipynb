{
 "cells": [
  {
   "cell_type": "markdown",
   "id": "9fa7cada",
   "metadata": {},
   "source": [
    "<h2 style=\"text-align: center\">Engineering Assignment 1 - A Demonstration Driveway Site</h2>"
   ]
  },
  {
   "cell_type": "markdown",
   "id": "465d11f9",
   "metadata": {},
   "source": [
    "** You have just been hired as a summer intern at a engineering construction company.  One of the company's potential clients is a national home construction company. Your company would like to win a contract to build driveways for all the homebuilder's new homes across the country.  Your company is committed to the environment, and you are trying convince the client that concrete driveways are not only more durable than asphalt, but also more environmentally friendly.  As part of the sales pitch, you have been asked to develop a proposal for a demonstration concrete driveway that can be shown to the client. The driveway will be 30 feet in length and should be the typical width of a two-car driveway (we'll say 20 feet). The concrete slab should be standard thickness for a driveway, which is 4 inches. Your boss has asked you to use the standard basic ingredients for the concrete rather than a premade mix."
   ]
  },
  {
   "cell_type": "markdown",
   "id": "fe6c702a",
   "metadata": {},
   "source": [
    "** You want to be certain to do a good job on your very first project, so you write a paragraph that summarizes your understanding of the assignment, and then a second paragraph that outlines the steps you will take to complete it."
   ]
  },
  {
   "cell_type": "markdown",
   "id": "03430e13",
   "metadata": {},
   "source": [
    "Edit <b>this cell</b> with a paragraph describing what the project is and what you have been asked to do. Remember, you can double click on any cell to edit it.\n",
    "## Project Overview\n",
    "\n",
    "This project is to create a sales pitch for a client that show how concrete driveways are both more durable than asphalt and also more enviromenatally friendly. As part of the pitch a proposal for a demonstration concrete drive way will be developed. Which will be a 30' x 20' x 4\" concrete driveway made from the standerned basic ingredients."
   ]
  },
  {
   "cell_type": "markdown",
   "id": "661babca",
   "metadata": {},
   "source": [
    "Edit <b>this cell</b> with a paragraph describing what steps you will need to take to complete the project.\n",
    "## Project Steps\n",
    "\n",
    "1. Research the difference between concrete and asphalt\n",
    "2. Research the benifits and related properties of concrete (weight, size, cost). \n",
    "3. Present the benifits of concrete\n",
    "4. Create a program that can calculate the volume based on the dimmesions of the driveway\n",
    "5. Create a program that can calculate the weight and cost of the project based on the volume \n",
    "6. Use the program to calculate useful information\n",
    "7. Present the information"
   ]
  },
  {
   "cell_type": "markdown",
   "id": "e9d1bd2a",
   "metadata": {},
   "source": [
    "** You realize that before you do any calculations, you need to learn a little bit about concrete.  Is it the same as cement?  What is it even made of?  Off you go to the internet, where you begin your learning.  In the markdown cell below, summarize what you learned about concrete.  Be sure to indicate your sources - number each source and put it in brackets like this -> [1]  Ideally, you should create these as links so that someone just needs to click on the number to go directly to the linked site. At the end of the report (not the end of the cell - the end of the assignment), list all the sources by number and URL so they can be found even if someone prints the report.  "
   ]
  },
  {
   "cell_type": "markdown",
   "id": "d117aa7b-8092-4061-a116-dc7b37ea9535",
   "metadata": {},
   "source": [
    "## The Benifits of Concrete"
   ]
  },
  {
   "cell_type": "markdown",
   "id": "6d1765a6",
   "metadata": {},
   "source": [
    "Edit <b>this cell</b> and type what you learned about concrete, including why it is an environmentally superior choice over asphalt.\n",
    "\n",
    "While asphalt and concrete both have there own costs and benifits for driveways concrete is the best choice and is quickly becoming the standard. While the initial cost of concrete is slightly more expensive, asphalt \"costing \\\\$2.00 to \\\\$4.00 per square foot\" and \"concrete driveway cost(ing) between \\\\$4.00 and \\\\$6.00 per square foot\"[[1]](https://www.uniquepavingmaterials.com/asphalt-vs-concrete-driveways-which-is-right-for-you/), concrete makes up much of the initial investment with lower maintanance and repair costs. [[2]](https://concretesupplyco.com/concrete-vs-asphalt/)\n",
    "\n",
    "One advantage of concrete is its long lasting ability. When first both were first developed people explected concrete to last around as long or a slighty shorter than they expected asphalt to last. Asphalt was estimated to last 20-25 years and concrete 20 years. However, in day to day life asphalt on average last 5-7 years and concrete can last from up to 30 to even 50 years! [[2]](https://concretesupplyco.com/concrete-vs-asphalt/)\n",
    "\n",
    "Concrete also has another huge advantage. Concrete is 100% recyclable. Concrete is made out of natural and fully recyclable materials: sand, aggregates, and water. Concrete also doesn't produce toxic runoff. And with concrete being a lighter material light from the sun is reflected instead of absorbed. This helps locally by saving energy on air conditioning but also helps with global warming in a similar way to the \"iceburg effect\"[[3]](https://www.wunderground.com/cat6/how-icebergs-are-connected-to-climate-change-and-tourism).  [[2]](https://concretesupplyco.com/concrete-vs-asphalt/)"
   ]
  },
  {
   "cell_type": "markdown",
   "id": "e636aee7",
   "metadata": {},
   "source": [
    "** Now that you have learned a little about concrete and what it is, you need to calculate how much concrete you will need.  Assume your driveway wil be 4\" thick, 30' long, and 20' wide. Use the cell below to calculate how much concrete you will need, in cubic feet. Be sure to use variable names that tell you what the variable is when you read the name."
   ]
  },
  {
   "cell_type": "code",
   "execution_count": 25,
   "id": "32e7543b",
   "metadata": {},
   "outputs": [
    {
     "name": "stdout",
     "output_type": "stream",
     "text": [
      "The volume of the driveway is 200.0 cubic feet\n"
     ]
    }
   ],
   "source": [
    "thickness=4\n",
    "length=30*12\n",
    "width=20*12\n",
    "\n",
    "volume=(thickness*length*width)/(12**3)\n",
    "\n",
    "print(f\"The volume of the driveway is {volume} cubic feet\")"
   ]
  },
  {
   "cell_type": "markdown",
   "id": "b8ff820f",
   "metadata": {},
   "source": [
    "** Your boss has asked you to make the concrete from its basic ingredients, so you need to estimate how much of each of these ingredients you will need to make the concrete.  According to the cement manufacturer, a 94 pound sack of Portland cement is 1.0 cubic feet and makes 4.5 cubic feet of concrete using the standard 1:2:3 ratio of cement:sand:gravel. Use the cell below and any additional cells you would like to create to calculate the amount of each ingredient. To be prudent, add 10% to account for some potential waste, spillage etc. "
   ]
  },
  {
   "cell_type": "code",
   "execution_count": 26,
   "id": "d7a25e26",
   "metadata": {},
   "outputs": [
    {
     "name": "stdout",
     "output_type": "stream",
     "text": [
      "Cement needed 48.88888888888889 cubic feet\n",
      "Sand needed: 97.77777777777779 cubic feet\n",
      "Gravel needed: 146.66666666666669 cubic feet\n"
     ]
    }
   ],
   "source": [
    "#Cementlbs=94 #all three per cubic ft\n",
    "#Sandlbs=100\n",
    "#Gravel=105\n",
    "\n",
    "\n",
    "cement=(1)\n",
    "sand=(2)\n",
    "gravel=(3)\n",
    "\n",
    "volunit=(volume/4.5) #\n",
    "volunit*=1.1 # adding prudent 10 percent\n",
    "\n",
    "print(f\"Cement needed {volunit*cement} cubic feet\\nSand needed: {volunit*sand} cubic feet\\nGravel needed: {volunit*gravel} cubic feet\")"
   ]
  },
  {
   "cell_type": "markdown",
   "id": "c2d43fb1",
   "metadata": {},
   "source": [
    "** Of course, no engineering estimate is complete without the cost.  Go back to the internet and find out how much these ingredients will cost.  Of course, you will probably need to purchase bags of materials, so you'll have a partial bag of each left over in just about every case.  Use the cell below to caculate the material cost for the proposed project."
   ]
  },
  {
   "cell_type": "code",
   "execution_count": 27,
   "id": "9ce37257",
   "metadata": {},
   "outputs": [
    {
     "name": "stdout",
     "output_type": "stream",
     "text": [
      "Cement cost $553.2099999999999\n",
      "Sand cost $780.08\n",
      "Gravel cost $1816.9199999999998\n",
      "Total cost $3150.21\n"
     ]
    }
   ],
   "source": [
    "import math\n",
    "cementunitcost=11.29 #per cubic feet\n",
    "sandunitcost=7.96\n",
    "gravelunitcost=12.36\n",
    "\n",
    "cmtcost=cementunitcost*math.ceil(volunit*cement)\n",
    "sandcost=sandunitcost*math.ceil(volunit*sand)\n",
    "grvlcost=gravelunitcost*math.ceil(volunit*gravel)\n",
    "\n",
    "print(f\"Cement cost ${cmtcost}\\nSand cost ${sandcost}\\nGravel cost ${grvlcost}\\nTotal cost ${grvlcost+sandcost+cmtcost}\")"
   ]
  },
  {
   "cell_type": "markdown",
   "id": "7d2a0f0b",
   "metadata": {},
   "source": [
    "** Once you finished your calculations, you excitedly tell your boss that you have finished.  He scans your figures, and then he says that now that he has thought about it some more, it might make sense to use a premixed concrete after all.  He asks you go back and find out how much it would cost to do this instead of using the basic materials.  Note: an 80 pound bag of premixed concrete (after mixing with water) fills a 2 square foot by 4\" slab. In the cell below, calculate how many bags of premixed concrete you will need and how much it will cost to do the job."
   ]
  },
  {
   "cell_type": "code",
   "execution_count": 33,
   "id": "94ab16d7",
   "metadata": {},
   "outputs": [
    {
     "name": "stdout",
     "output_type": "stream",
     "text": [
      "Number of bags needed: 150.0\n",
      "Cost of project: $871.2\n"
     ]
    }
   ],
   "source": [
    "concunitvol=2*2*4/12\n",
    "bags=volume/concunitvol\n",
    "bagcost=5.28\n",
    "print(f\"Number of bags needed: {bags}\\nCost of project: ${bagcost*bags*1.1}\") #10% extra for spillage as before"
   ]
  },
  {
   "cell_type": "markdown",
   "id": "70b942c0",
   "metadata": {},
   "source": [
    "** Your boss tells you that his labor cost is about $100/hour, acconting for pay, benefits, taxes, etc.  He realizes it might save some time to use the premixed concrete and asks you to recommend whether the project should use the basic or the premixed materials.  Summarize your recommendation below."
   ]
  },
  {
   "cell_type": "markdown",
   "id": "23c17a7f",
   "metadata": {},
   "source": [
    "Edit <b>this cell</b> with your recommendation on whether to use the basic materials or the premixed.  Be sure to explain your reasons."
   ]
  },
  {
   "cell_type": "markdown",
   "id": "aaf2decc",
   "metadata": {},
   "source": [
    "** In the cell below, include a list of all the sources you used for this proposal.  Be sure to indicate the date you used the site."
   ]
  },
  {
   "cell_type": "markdown",
   "id": "3beaaeae",
   "metadata": {},
   "source": [
    "Edit <b>this cell</b> with your list of sources.\n",
    "\n",
    "[[1]](https://www.uniquepavingmaterials.com/asphalt-vs-concrete-driveways-which-is-right-for-you/) https://www.uniquepavingmaterials.com/asphalt-vs-concrete-driveways-which-is-right-for-you/ \n",
    "\n",
    "[[2]](https://concretesupplyco.com/concrete-vs-asphalt/) https://concretesupplyco.com/concrete-vs-asphalt/ \n",
    "\n",
    "[[3]](https://www.wunderground.com/cat6/how-icebergs-are-connected-to-climate-change-and-tourism) https://www.wunderground.com/cat6/how-icebergs-are-connected-to-climate-change-and-tourism"
   ]
  },
  {
   "cell_type": "markdown",
   "id": "80c421d4",
   "metadata": {},
   "source": [
    "** Here are some helpful sources to get your started. You do not have to use these!\n",
    "\n",
    "1. https://concretesupplyco.com/concrete-vs-asphalt/\n",
    "2. https://www.cement.org/cement-concrete/paving/buildings-structures/concrete-homes/products/driveways\n",
    "3. https://www.homedepot.com/c/ab/types-of-concrete-mix-for-any-project/9ba683603be9fa5395fab901c07575fe\n",
    "4. https://images.homedepot-static.com/catalog/pdfImages/2c/2cd086ef-e650-44c8-a0d1-f5fc3ce4418b.pdf\n",
    "5. https://www.homedepot.com/p/Quikrete-50-lb-All-Purpose-Sand-115251/100318450\n",
    "6. https://www.homedepot.com/p/Quikrete-50-lb-All-Purpose-Gravel-115150/100318444?source=shoppingads&locale=en-US&mtc=Shopping-B-F_D22-G-D22-22_9_CONCRETE-Generic-NA-Feed-LIA-NA-NA-&cm_mmc=Shopping-B-F_D22-G-D22-22_9_CONCRETE-Generic-NA-Feed-LIA-NA-NA--71700000045600364-58700004679444416-92700057047190399&gclid=CjwKCAjwlYCHBhAQEiwA4K21mx5M8-GpeTS8ZVBc4fBi23-RYiAK9x63VNeutjWOj6N8EctAaIsQORoCTh4QAvD_BwE&gclsrc=aw.ds\n",
    "7. https://www.homedepot.com/p/94-lb-Portland-Cement-112494/100570364?source=shoppingads&locale=en-US&mtc=Shopping-B-F_D22-G-D22-22_9_CONCRETE-Generic-NA-Feed-LIA-NA-NA-&cm_mmc=Shopping-B-F_D22-G-D22-22_9_CONCRETE-Generic-NA-Feed-LIA-NA-NA--71700000045600364-58700004679444416-92700057047190396&gclid=CjwKCAjwlYCHBhAQEiwA4K21m7jd2TuCQAsmI-YdxhQrPKS0jL0Ai-V-R5GAHtcmBd0OdX5W9opHARoCkk8QAvD_BwE&gclsrc=aw.ds"
   ]
  },
  {
   "cell_type": "markdown",
   "id": "c3c849b0",
   "metadata": {},
   "source": [
    "** You are just about to submit your proposal.  Go back through it and delete all the cells with instructions (they all begin with two asterisks. Add any additional formatting needed to make your proposal look professional.  Double check all your assumptions and calculations to make sure your results are visible, reasonable and correct. If you can't see your results, we won't either, and this will hurt your grade.  Next, do a print preview and make sure everything looks as you expected.  Final, save the print preview as a .pdf The submit the file to Course Site.  Congratulations on completing your first assignment."
   ]
  }
 ],
 "metadata": {
  "kernelspec": {
   "display_name": "Python 3 (ipykernel)",
   "language": "python",
   "name": "python3"
  },
  "language_info": {
   "codemirror_mode": {
    "name": "ipython",
    "version": 3
   },
   "file_extension": ".py",
   "mimetype": "text/x-python",
   "name": "python",
   "nbconvert_exporter": "python",
   "pygments_lexer": "ipython3",
   "version": "3.8.2"
  }
 },
 "nbformat": 4,
 "nbformat_minor": 5
}
