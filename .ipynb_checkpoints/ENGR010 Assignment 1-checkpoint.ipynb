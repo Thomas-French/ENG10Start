{
 "cells": [
  {
   "cell_type": "markdown",
   "id": "9fa7cada",
   "metadata": {},
   "source": [
    "<h2 style=\"text-align: center\">Engineering Assignment 1 - A Demonstration Driveway Site</h2>"
   ]
  },
  {
   "cell_type": "markdown",
   "id": "fb63f737-c420-4c04-9d25-61f259cddafa",
   "metadata": {
    "tags": []
   },
   "source": [
    "## Project Overview"
   ]
  },
  {
   "cell_type": "markdown",
   "id": "03430e13",
   "metadata": {},
   "source": [
    "This project is to create a sales pitch for a client that show how concrete driveways are both more durable than asphalt and also more enviromenatally friendly. As part of the pitch a proposal for a demonstration concrete drive way will be developed. Which will be a 30' x 20' x 4\" concrete driveway made from the standerned basic ingredients."
   ]
  },
  {
   "cell_type": "markdown",
   "id": "35789595-7d44-4034-aee7-ab7b784d001a",
   "metadata": {
    "tags": []
   },
   "source": [
    "## Project Steps"
   ]
  },
  {
   "cell_type": "markdown",
   "id": "661babca",
   "metadata": {},
   "source": [
    "1. Research the difference between concrete and asphalt\n",
    "2. Research the benifits and related properties of concrete (weight, size, cost). \n",
    "3. Present the benifits of concrete\n",
    "4. Create a program that can calculate the volume based on the dimmesions of the driveway\n",
    "5. Create a program that can calculate the weight and cost of the project based on the volume \n",
    "6. Use the program to calculate materials needed\n",
    "7. Research material cost\n",
    "8. Calculate cost of different approaches\n",
    "8. Present the information and give oppinion on best plan forward"
   ]
  },
  {
   "cell_type": "markdown",
   "id": "d117aa7b-8092-4061-a116-dc7b37ea9535",
   "metadata": {},
   "source": [
    "## The Benifits of Concrete"
   ]
  },
  {
   "cell_type": "markdown",
   "id": "6d1765a6",
   "metadata": {},
   "source": [
    "While asphalt and concrete both have there own costs and benifits for driveways concrete is the best choice and is quickly becoming the standard. While the initial cost of concrete is slightly more expensive, asphalt \"costing \\\\$2.00 to \\\\$4.00 per square foot\" and \"concrete driveway cost(ing) between \\\\$4.00 and \\\\$6.00 per square foot\"[[1]](https://www.uniquepavingmaterials.com/asphalt-vs-concrete-driveways-which-is-right-for-you/), concrete makes up much of the initial investment with lower maintanance and repair costs. [[2]](https://concretesupplyco.com/concrete-vs-asphalt/)\n",
    "\n",
    "One advantage of concrete is its long lasting ability. When first both were first developed people explected concrete to last around as long or a slighty shorter than they expected asphalt to last. Asphalt was estimated to last 20-25 years and concrete 20 years. However, in day to day life asphalt on average last 5-7 years and concrete can last from up to 30 to even 50 years! [[2]](https://concretesupplyco.com/concrete-vs-asphalt/)\n",
    "\n",
    "Concrete also has another huge advantage. Concrete is 100% recyclable. Concrete is made out of natural and fully recyclable materials: sand, aggregates, and water. Concrete also doesn't produce toxic runoff. And with concrete being a lighter material light from the sun is reflected instead of absorbed. This helps locally by saving energy on air conditioning but also helps with global warming in a similar way to the \"iceburg effect\"[[3]](https://www.wunderground.com/cat6/how-icebergs-are-connected-to-climate-change-and-tourism).  [[2]](https://concretesupplyco.com/concrete-vs-asphalt/)"
   ]
  },
  {
   "cell_type": "markdown",
   "id": "0f37191d-4c5f-4558-848b-3d29d217771b",
   "metadata": {
    "tags": []
   },
   "source": [
    "## Project Calculations"
   ]
  },
  {
   "cell_type": "markdown",
   "id": "e636aee7",
   "metadata": {},
   "source": [
    "### Calculating volume of concrete needed for the project"
   ]
  },
  {
   "cell_type": "code",
   "execution_count": 11,
   "id": "32e7543b",
   "metadata": {},
   "outputs": [
    {
     "name": "stdout",
     "output_type": "stream",
     "text": [
      "The volume of the driveway is 200.0 cubic feet\n"
     ]
    }
   ],
   "source": [
    "thickness=4/12 #all in terms of feet\n",
    "length=30\n",
    "width=20\n",
    "\n",
    "volume=(thickness*length*width) #multiplying all to get cubic feet\n",
    "\n",
    "print(f\"The volume of the driveway is {volume} cubic feet\") #printing"
   ]
  },
  {
   "cell_type": "markdown",
   "id": "b8ff820f",
   "metadata": {},
   "source": [
    "### Calculating materials needed for traditional concrete mix"
   ]
  },
  {
   "cell_type": "code",
   "execution_count": 12,
   "id": "d7a25e26",
   "metadata": {},
   "outputs": [
    {
     "name": "stdout",
     "output_type": "stream",
     "text": [
      "Cement needed 48.88888888888889 cubic feet\n",
      "Sand needed: 97.77777777777779 cubic feet\n",
      "Gravel needed: 146.66666666666669 cubic feet\n"
     ]
    }
   ],
   "source": [
    "\n",
    "#ratio of each ingredient\n",
    "cement=(1)\n",
    "sand=(2)\n",
    "gravel=(3)\n",
    "\n",
    "volunit=(volume/4.5) #given that cement is 1 unit and it gives 4.5 cubic feet we divide total volume by 4.5\n",
    "volunit*=1.1 # adding prudent 10 percent to each material \n",
    "\n",
    "print(f\"Cement needed {volunit*cement} cubic feet\\nSand needed: {volunit*sand} cubic feet\\nGravel needed: {volunit*gravel} cubic feet\")"
   ]
  },
  {
   "cell_type": "markdown",
   "id": "c2d43fb1",
   "metadata": {},
   "source": [
    "### Cost Calculations with 94lbs bags of Portland Cement and 1:2:3 Ratio"
   ]
  },
  {
   "cell_type": "code",
   "execution_count": 13,
   "id": "9ce37257",
   "metadata": {},
   "outputs": [
    {
     "name": "stdout",
     "output_type": "stream",
     "text": [
      "Cement cost $553.2099999999999\n",
      "Sand cost $780.08\n",
      "Gravel cost $1816.9199999999998\n",
      "Total cost $3150.21\n"
     ]
    }
   ],
   "source": [
    "import math #importing to use rounding up\n",
    "cementunitcost=11.29 #[4] #each unit cost per cubic feet\n",
    "sandunitcost=7.96 #[5]\n",
    "gravelunitcost=12.36 #[6]\n",
    "\n",
    "cmtcost=cementunitcost*math.ceil(volunit*cement) #rounding up to the bag because you have to buy a bag \n",
    "sandcost=sandunitcost*math.ceil(volunit*sand)    #even if you dont use all of it\n",
    "grvlcost=gravelunitcost*math.ceil(volunit*gravel)\n",
    "\n",
    "print(f\"Cement cost ${cmtcost}\\nSand cost ${sandcost}\\nGravel cost ${grvlcost}\\nTotal cost ${grvlcost+sandcost+cmtcost}\")"
   ]
  },
  {
   "cell_type": "markdown",
   "id": "56ef7447-615f-4f2f-9e87-1568a8e3405e",
   "metadata": {},
   "source": [
    "[[4]](https://www.homedepot.com/p/SAKRETE-94-lb-Portland-Cement-65150083/100350632)\n",
    "[[5]](https://www.homedepot.com/p/SAKRETE-0-5-cu-ft-Step-2-Paver-Leveling-Sand-40100316/205153035)\n",
    "[[6]](https://www.lowes.com/pd/Sakrete-0-5-cu-ft-Gray-Gravel/1000489233)"
   ]
  },
  {
   "cell_type": "markdown",
   "id": "7d2a0f0b",
   "metadata": {},
   "source": [
    "### Cost Calculations with 80lbs Premix Concrete Bags"
   ]
  },
  {
   "cell_type": "code",
   "execution_count": 14,
   "id": "94ab16d7",
   "metadata": {},
   "outputs": [
    {
     "name": "stdout",
     "output_type": "stream",
     "text": [
      "Number of bags needed: 150.0\n",
      "Cost of project: $871.2\n"
     ]
    }
   ],
   "source": [
    "concunitvol=2*2*4/12 #how many cubic feet one bag fills\n",
    "bags=volume/concunitvol #how many bags are needed to fill the driveway\n",
    "bagcost=5.28 #cost of a 80lb bag #[7]\n",
    "print(f\"Number of bags needed: {bags}\\nCost of project: ${bagcost*bags*1.1}\") #10% extra for spillage as before"
   ]
  },
  {
   "cell_type": "markdown",
   "id": "a5a2a8e7-d6a5-4f31-964e-33784d141be6",
   "metadata": {},
   "source": [
    "[[7]](https://www.lowes.com/pd/QUIKRETE-80-lb-High-Strength-Concrete-Mix/3006075)"
   ]
  },
  {
   "cell_type": "markdown",
   "id": "70b942c0",
   "metadata": {},
   "source": [
    "## Project Recommendation"
   ]
  },
  {
   "cell_type": "markdown",
   "id": "23c17a7f",
   "metadata": {},
   "source": [
    "On bigger projects sand and gravel could be bought in bulk for cheaper and resulted in a cheaper total cost. However, on this project that was not a realistic option. Given that using traditional ingredients cost more and would require more labor cost the project should be completed using premixed concrete."
   ]
  },
  {
   "cell_type": "markdown",
   "id": "99abd5da-74fe-48fa-9670-54dc1801e9fa",
   "metadata": {},
   "source": [
    "## List of Sources"
   ]
  },
  {
   "cell_type": "markdown",
   "id": "3beaaeae",
   "metadata": {},
   "source": [
    "\n",
    "[[1]](https://www.uniquepavingmaterials.com/asphalt-vs-concrete-driveways-which-is-right-for-you/) https://www.uniquepavingmaterials.com/asphalt-vs-concrete-driveways-which-is-right-for-you/ \n",
    "\n",
    "[[2]](https://concretesupplyco.com/concrete-vs-asphalt/) https://concretesupplyco.com/concrete-vs-asphalt/ \n",
    "\n",
    "[[3]](https://www.wunderground.com/cat6/how-icebergs-are-connected-to-climate-change-and-tourism) https://www.wunderground.com/cat6/how-icebergs-are-connected-to-climate-change-and-tourism\n",
    "\n",
    "[[4]](https://www.homedepot.com/p/SAKRETE-94-lb-Portland-Cement-65150083/100350632) https://www.homedepot.com/p/SAKRETE-94-lb-Portland-Cement-65150083/100350632\n",
    "\n",
    "[[5]](https://www.homedepot.com/p/SAKRETE-0-5-cu-ft-Step-2-Paver-Leveling-Sand-40100316/205153035) https://www.homedepot.com/p/SAKRETE-0-5-cu-ft-Step-2-Paver-Leveling-Sand-40100316/205153035\n",
    "\n",
    "[[6]](https://www.lowes.com/pd/Sakrete-0-5-cu-ft-Gray-Gravel/1000489233) https://www.lowes.com/pd/Sakrete-0-5-cu-ft-Gray-Gravel/1000489233\n",
    "\n",
    "[[7]](https://www.lowes.com/pd/QUIKRETE-80-lb-High-Strength-Concrete-Mix/3006075) https://www.lowes.com/pd/QUIKRETE-80-lb-High-Strength-Concrete-Mix/3006075"
   ]
  }
 ],
 "metadata": {
  "kernelspec": {
   "display_name": "Python 3 (ipykernel)",
   "language": "python",
   "name": "python3"
  },
  "language_info": {
   "codemirror_mode": {
    "name": "ipython",
    "version": 3
   },
   "file_extension": ".py",
   "mimetype": "text/x-python",
   "name": "python",
   "nbconvert_exporter": "python",
   "pygments_lexer": "ipython3",
   "version": "3.8.2"
  }
 },
 "nbformat": 4,
 "nbformat_minor": 5
}
