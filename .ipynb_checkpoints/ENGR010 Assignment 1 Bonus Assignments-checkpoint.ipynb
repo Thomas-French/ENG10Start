{
 "cells": [
  {
   "cell_type": "markdown",
   "id": "9fa7cada",
   "metadata": {},
   "source": [
    "<h2 style=\"text-align: center\">Engineering Assignment 1 - Bonus Assignments</h2>"
   ]
  },
  {
   "cell_type": "markdown",
   "id": "853b2c16",
   "metadata": {},
   "source": [
    "<strong>\\*\\* Bonus Assignment 1</strong> After you tell the boss how much it will cost to build the driveway he specified, he tells you that actually, he has a budget of $1500 and is willing to spend it all to build the longest 20-foot wide, 4 inch deep driveway that he can using the three raw materials.  He also found out that he already has 150 bags each of gravel and sand left over from previous jobs, so he can use those instead of buying additional bags. He asks you how long a driveway he can build using raw materials, and how many bags of each material he will need to buy in addition to what he already has. (Hint: one simple way to approach this problem is to \"sell the existing materials back\" and add this money to your budget)"
   ]
  },
  {
   "cell_type": "markdown",
   "id": "bbe570b3",
   "metadata": {},
   "source": [
    "Edit <strong>this cell</strong> with your description of your code.  Then type your code into the code cell below."
   ]
  },
  {
   "cell_type": "code",
   "execution_count": null,
   "id": "c13f94b1",
   "metadata": {},
   "outputs": [],
   "source": []
  },
  {
   "cell_type": "markdown",
   "id": "8fb3fe82",
   "metadata": {},
   "source": [
    "** <strong> Bonus Assignment 2</strong>\n",
    "Write a function that returns the concrete volume for any length and width - pass these as parameters to the function. Write a second function that returns the total amounts of cement, sand and gravel required for a given volume of concrete using the standard 1:2:3 ratio.  The input parameter to this function should be the volume of concrete, and the function should return the volumes of cement, sand and gravel required as either a tuple or a list. Finally, write a function to return the cost of a driveway when passed as parameters the required volumes of cement, sand and gravel. This function should use the prices for these materials that you found above in the previous sections.  Now test your functions by writing a loop that prints the cost of 20-foot wide 4 inch deep driveways for lengths from 24 to 36, incremented by two."
   ]
  },
  {
   "cell_type": "markdown",
   "id": "56ea9679",
   "metadata": {},
   "source": [
    "Edit <strong>this cell</strong> with your description of your code.  Then type your code into the code cell below."
   ]
  },
  {
   "cell_type": "code",
   "execution_count": null,
   "id": "a07e973f",
   "metadata": {},
   "outputs": [],
   "source": []
  },
  {
   "cell_type": "markdown",
   "id": "c3c849b0",
   "metadata": {},
   "source": [
    "** You are just about to submit your bonus assignment.  Go back through it and delete all the cells with instructions (they all begin with two asterisks. Add any additional formatting needed to make your proposal look professional.  Double check all your assumptions and calculations to make sure your results are visible, reasonable and correct. If you can't see your results, we won't either, and this will hurt your grade.  Next, do a print preview and make sure everything looks as you expected.  Final, save the print preview as a .pdf The submit the file to Course Site.  Congratulations on completing your first assignment."
   ]
  },
  {
   "cell_type": "code",
   "execution_count": null,
   "id": "2cf204c0",
   "metadata": {},
   "outputs": [],
   "source": []
  }
 ],
 "metadata": {
  "kernelspec": {
   "display_name": "Python 3 (ipykernel)",
   "language": "python",
   "name": "python3"
  },
  "language_info": {
   "codemirror_mode": {
    "name": "ipython",
    "version": 3
   },
   "file_extension": ".py",
   "mimetype": "text/x-python",
   "name": "python",
   "nbconvert_exporter": "python",
   "pygments_lexer": "ipython3",
   "version": "3.8.2"
  }
 },
 "nbformat": 4,
 "nbformat_minor": 5
}
