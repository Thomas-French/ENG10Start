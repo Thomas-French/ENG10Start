{
 "cells": [
  {
   "cell_type": "markdown",
   "id": "9fa7cada",
   "metadata": {},
   "source": [
    "<h2 style=\"text-align: center\">Engineering Assignment 1 - Bonus Assignments</h2>"
   ]
  },
  {
   "cell_type": "markdown",
   "id": "853b2c16",
   "metadata": {},
   "source": [
    "### Calculating Maximum Length Given Certain Parameters"
   ]
  },
  {
   "cell_type": "markdown",
   "id": "bbe570b3",
   "metadata": {},
   "source": [
    "This code will calculate the longest drive way possible to make given certain parameters. There are intialial 150 0.5 cu ft bags of sand, a budget of $1500, and nessicary width of 20 ft and depth of 4 inches. We first will create variables for all nessicary values : budget, width, depth, cost of materials, ratio of materials. We will the calculate the budget after selling back all the intial bags. We will then calculate the cost of concrete per cubic feet. Given our budget and cost per cubic feet we will find the maxium volume the driveway can be. And from that finally we will be able to find the length. "
   ]
  },
  {
   "cell_type": "code",
   "execution_count": 76,
   "id": "c13f94b1",
   "metadata": {},
   "outputs": [
    {
     "name": "stdout",
     "output_type": "stream",
     "text": [
      "The budget after selling back the bags is : 3024.0\n",
      "The total volume of the project is : 211.66588894073732\n",
      "The maximum length the driveway can be is : 31.7498833411106\n"
     ]
    }
   ],
   "source": [
    "budget=1500\n",
    "width=20\n",
    "depth=4/12\n",
    "\n",
    "cementunitcost=11.29 #[4] #each unit cost per cubic feet\n",
    "sandunitcost=7.96 #[5]\n",
    "gravelunitcost=12.36 #[6]\n",
    "\n",
    "#ratio of each ingredient\n",
    "cement=(1)\n",
    "sand=(2)\n",
    "gravel=(3)\n",
    "\n",
    "budget+=(150/2)*7.96 # selling back the sand to the budget\n",
    "budget+=(150/2)*12.36 # selling back the gravel to the budget\n",
    "\n",
    "costpercuft=((11.29)+(7.96*2)+(12.36*3))/4.5 #if the materials at this ratio = 4.5 cu ft then dividing by 4.5 gives us the \n",
    "#cost of making on cu ft of concrete\n",
    "\n",
    "maxvol=budget/costpercuft #given our budget and cost per cu ft what is the maximum volume we can afford\n",
    "length=maxvol/width/depth #given volume, width, and depth what is the length\n",
    "print(f\"The budget after selling back the bags is : {budget}\\nThe total volume of the project is : {maxvol}\\nThe maximum length the driveway can be is : {length}\")"
   ]
  },
  {
   "cell_type": "markdown",
   "id": "2703d1bb-27fd-4bfd-ad10-b3b76a786263",
   "metadata": {},
   "source": [
    "[[4]](https://www.homedepot.com/p/SAKRETE-94-lb-Portland-Cement-65150083/100350632)\n",
    "[[5]](https://www.homedepot.com/p/SAKRETE-0-5-cu-ft-Step-2-Paver-Leveling-Sand-40100316/205153035)\n",
    "[[6]](https://www.lowes.com/pd/Sakrete-0-5-cu-ft-Gray-Gravel/1000489233)"
   ]
  },
  {
   "cell_type": "markdown",
   "id": "8fb3fe82",
   "metadata": {},
   "source": [
    "### Using Functions to Calculate Multiple Prices Quickly"
   ]
  },
  {
   "cell_type": "markdown",
   "id": "56ea9679",
   "metadata": {},
   "source": [
    "This code will give three function that will solve three parts of calculating from length and width what will the final cost be. The first function gives the step of from length, width, height to volume. The second function gives the cubic feet of each material needed given the total volume. The third function gives the total cost of the project given the number of cubic feet of each material needed. The code then has a loop that calculates the cost of 20-foot wide 4 inch deep driveways for lengths from 24 to 36, incremented by two."
   ]
  },
  {
   "cell_type": "code",
   "execution_count": 83,
   "id": "a07e973f",
   "metadata": {},
   "outputs": [
    {
     "name": "stdout",
     "output_type": "stream",
     "text": [
      "Example to test function\n",
      "Volume : 160.0\n",
      "Materials needed : [35.55555555555556, 71.11111111111111, 106.66666666666667]\n",
      "Cost : 2285.866666666667\n",
      "\n",
      "\n",
      "\n",
      "Driveway cost 20\" x 4' x 24-36\"\n",
      "24 : 2285.866666666667\n",
      "26 : 2476.355555555556\n",
      "28 : 2666.844444444444\n",
      "30 : 2857.333333333333\n",
      "32 : 3047.822222222222\n",
      "34 : 3238.31111111111\n",
      "36 : 3428.8\n"
     ]
    }
   ],
   "source": [
    "def Volume(l,w):\n",
    "    return(l*w*4/12) #given depth always is 4\" => volume = l*w*4/12\n",
    "\n",
    "def Materials(v):\n",
    "    ncem=v/4.5 #getting cu ft of cemenet need to get set volume of concrete\n",
    "    nsan=2*(v/4.5) #''sand''\n",
    "    ngrav=3*(v/4.5) #''gravel''\n",
    "    Mats=[ncem,nsan,ngrav] # creating a list with amt of each material as a variable\n",
    "    return(Mats)\n",
    "\n",
    "def Costs(m):\n",
    "    c=(m[0]*cementunitcost) #adding to cost product of cu ft needed by cost per cu ft of cement\n",
    "    c+=(m[1]*sandunitcost) #adding to cost product of cu ft needed by cost per cu ft of sand\n",
    "    c+=(m[2]*gravelunitcost) #adding to cost product of cu ft needed by cost per cu ft of gravel\n",
    "    return(c)\n",
    "\n",
    "print(\"Example to test function\")\n",
    "vol=Volume(20,24)\n",
    "print(f\"Volume : {vol}\") \n",
    "\n",
    "mat=Materials(vol)\n",
    "print(f\"Materials needed : {mat[0:3]}\") #printing cubic feet of each material needed. Can use [#] to see amount of spesifc material needed\n",
    "\n",
    "\n",
    "cos=Costs(mat)\n",
    "print(f\"Cost : {cos}\")\n",
    "print(\"\\n\\n\")\n",
    "\n",
    "print(\"Driveway cost 20\\\" x 4\\' x 24-36\\\"\")\n",
    "width=20\n",
    "for i in range(24,37,2): #37 used because exclusive on second variable # 2 as 3rd var to increment by 2\n",
    "    print(f\"{i} : {Costs(Materials(Volume(i,width)))}\")\n"
   ]
  }
 ],
 "metadata": {
  "kernelspec": {
   "display_name": "Python 3 (ipykernel)",
   "language": "python",
   "name": "python3"
  },
  "language_info": {
   "codemirror_mode": {
    "name": "ipython",
    "version": 3
   },
   "file_extension": ".py",
   "mimetype": "text/x-python",
   "name": "python",
   "nbconvert_exporter": "python",
   "pygments_lexer": "ipython3",
   "version": "3.8.2"
  }
 },
 "nbformat": 4,
 "nbformat_minor": 5
}
