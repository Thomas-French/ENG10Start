{
 "cells": [
  {
   "cell_type": "markdown",
   "id": "ac256e4f-f14b-41e3-b63d-68187d34d4c5",
   "metadata": {},
   "source": [
    "ENG 10 Start"
   ]
  },
  {
   "cell_type": "code",
   "execution_count": 1,
   "id": "d4cccff8-80bc-4ba0-8c82-5747ca7f06e5",
   "metadata": {},
   "outputs": [
    {
     "name": "stdout",
     "output_type": "stream",
     "text": [
      "hello\n"
     ]
    }
   ],
   "source": [
    "print(\"hello\")"
   ]
  },
  {
   "cell_type": "code",
   "execution_count": null,
   "id": "fc6d0fcf-341f-410f-b0e3-8936a842134b",
   "metadata": {},
   "outputs": [],
   "source": []
  }
 ],
 "metadata": {
  "kernelspec": {
   "display_name": "Python 3 (ipykernel)",
   "language": "python",
   "name": "python3"
  },
  "language_info": {
   "codemirror_mode": {
    "name": "ipython",
    "version": 3
   },
   "file_extension": ".py",
   "mimetype": "text/x-python",
   "name": "python",
   "nbconvert_exporter": "python",
   "pygments_lexer": "ipython3",
   "version": "3.8.2"
  }
 },
 "nbformat": 4,
 "nbformat_minor": 5
}
