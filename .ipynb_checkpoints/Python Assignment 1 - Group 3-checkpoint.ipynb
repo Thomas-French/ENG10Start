{
 "cells": [
  {
   "cell_type": "markdown",
   "id": "1ab6f563",
   "metadata": {},
   "source": [
    "<h2 align='center'>Weekly Python Assignment 1 for Group 3</h2>"
   ]
  },
  {
   "cell_type": "markdown",
   "id": "af8ba61c",
   "metadata": {},
   "source": [
    "<strong>Instructions:</strong> For each exercise below, type the requested code into the cell below the exercise, then run your code. <strong>If you don't see results when you run the cell, add a line to your code with a print statement and run the cell again."
   ]
  },
  {
   "cell_type": "markdown",
   "id": "d78b89e5",
   "metadata": {},
   "source": [
    "Example 1: Use Python as a calculator to find the difference between 23 and 14."
   ]
  },
  {
   "cell_type": "code",
   "execution_count": 8,
   "id": "b717d8c4",
   "metadata": {},
   "outputs": [
    {
     "data": {
      "text/plain": [
       "9"
      ]
     },
     "execution_count": 8,
     "metadata": {},
     "output_type": "execute_result"
    }
   ],
   "source": [
    "23 - 14   #  Output shows up when you run the cell."
   ]
  },
  {
   "cell_type": "markdown",
   "id": "8d76b9e0",
   "metadata": {},
   "source": [
    "Example 2: Set the variable named xzy equal to 25."
   ]
  },
  {
   "cell_type": "code",
   "execution_count": 9,
   "id": "b2eea7de",
   "metadata": {},
   "outputs": [
    {
     "name": "stdout",
     "output_type": "stream",
     "text": [
      "25\n"
     ]
    }
   ],
   "source": [
    "xyz = 25   # When you run this cell, nothing gets printed unless you add the print statement\n",
    "print(xyz)"
   ]
  },
  {
   "cell_type": "markdown",
   "id": "3f8f0bd2",
   "metadata": {},
   "source": [
    "1\\. Use Python as a calculator to create the string \"blahblahblahblahblah\" from the string \"blah\". First, use string addition.  Then do the same thing using string multiplication."
   ]
  },
  {
   "cell_type": "code",
   "execution_count": 3,
   "id": "50a932e8",
   "metadata": {},
   "outputs": [
    {
     "name": "stdout",
     "output_type": "stream",
     "text": [
      "Addition : blahblahblahblahblah\n",
      "Multiplication : blahblahblahblahblah\n"
     ]
    }
   ],
   "source": [
    "blah=\"blah\" #Creating string for blah\n",
    "addblah=blah+blah+blah+blah+blah #Creating the big string with addition\n",
    "multiblah=5*blah #Creating the big string with multiplication\n",
    "\n",
    "print(\"Addition : \"+addblah) #printing it\n",
    "print(\"Multiplication : \"+multiblah)"
   ]
  },
  {
   "cell_type": "markdown",
   "id": "5780e0c9",
   "metadata": {},
   "source": [
    "2\\. Assign the sum of the numbers 1, 2, 3 to the variable sum.  Why is this a bad name for a variable?"
   ]
  },
  {
   "cell_type": "code",
   "execution_count": null,
   "id": "45128508",
   "metadata": {},
   "outputs": [],
   "source": [
    "sum=1+2+3 #this is a bad name because sum is a python keyword"
   ]
  },
  {
   "cell_type": "markdown",
   "id": "42ccc450",
   "metadata": {},
   "source": [
    "3\\. Use the integer 5 to create the string '55555'."
   ]
  },
  {
   "cell_type": "code",
   "execution_count": 8,
   "id": "fc68143d",
   "metadata": {},
   "outputs": [
    {
     "name": "stdout",
     "output_type": "stream",
     "text": [
      "55555\n"
     ]
    }
   ],
   "source": [
    "num=5 #creating the integer of 5 \n",
    "numstring=\"\" #creating a sting\n",
    "\n",
    "numstring=5*(str(num)) #casting the int as a string then multiplying it by 5 to the string\n",
    "\n",
    "print(numstring) #Printing it"
   ]
  },
  {
   "cell_type": "markdown",
   "id": "669b19dc",
   "metadata": {},
   "source": [
    "4\\. Print the multiplication table for the integers 1 through 12. All numbers should be right-justified with a field width of 4.."
   ]
  },
  {
   "cell_type": "code",
   "execution_count": 11,
   "id": "943e5c4a",
   "metadata": {},
   "outputs": [
    {
     "ename": "SyntaxError",
     "evalue": "f-string: expecting '}' (50261005.py, line 1)",
     "output_type": "error",
     "traceback": [
      "\u001b[0;36m  Input \u001b[0;32mIn [11]\u001b[0;36m\u001b[0m\n\u001b[0;31m    print(f\" {x1=1.0}\\n{x2=5884.32}\")\u001b[0m\n\u001b[0m          ^\u001b[0m\n\u001b[0;31mSyntaxError\u001b[0m\u001b[0;31m:\u001b[0m f-string: expecting '}'\n"
     ]
    }
   ],
   "source": [
    "print(f\" {x1=1.0}\\n{x2=5884.32}\")"
   ]
  },
  {
   "cell_type": "markdown",
   "id": "afe2623c",
   "metadata": {},
   "source": [
    "5\\. Use complex multiplication to show that the square root of 2j is 1+j and the square root of -2j is 1-j."
   ]
  },
  {
   "cell_type": "code",
   "execution_count": 21,
   "id": "5744257d",
   "metadata": {},
   "outputs": [
    {
     "ename": "TypeError",
     "evalue": "can only concatenate str (not \"complex\") to str",
     "output_type": "error",
     "traceback": [
      "\u001b[0;31m---------------------------------------------------------------------------\u001b[0m",
      "\u001b[0;31mTypeError\u001b[0m                                 Traceback (most recent call last)",
      "Input \u001b[0;32mIn [24]\u001b[0m, in \u001b[0;36m<cell line: 3>\u001b[0;34m()\u001b[0m\n\u001b[1;32m      1\u001b[0m a\u001b[38;5;241m=\u001b[39m\u001b[38;5;241m2\u001b[39mj\n\u001b[1;32m      2\u001b[0m b\u001b[38;5;241m=\u001b[39m\u001b[38;5;241m-\u001b[39m\u001b[38;5;241m2\u001b[39mj\n\u001b[0;32m----> 3\u001b[0m \u001b[38;5;28mprint\u001b[39m(\u001b[38;5;124;43m\"\u001b[39;49m\u001b[38;5;124;43m 2j= \u001b[39;49m\u001b[38;5;124;43m\"\u001b[39;49m\u001b[38;5;241;43m+\u001b[39;49m\u001b[43m(\u001b[49m\u001b[43ma\u001b[49m\u001b[38;5;241;43m*\u001b[39;49m\u001b[38;5;241;43m*\u001b[39;49m\u001b[38;5;241;43m0.5\u001b[39;49m\u001b[43m)\u001b[49m\u001b[38;5;241m+\u001b[39m\u001b[38;5;124m\"\u001b[39m\u001b[38;5;130;01m\\n\u001b[39;00m\u001b[38;5;124m-2j= \u001b[39m\u001b[38;5;124m\"\u001b[39m\u001b[38;5;241m+\u001b[39m{b\u001b[38;5;241m*\u001b[39m\u001b[38;5;241m*\u001b[39m\u001b[38;5;241m0.5\u001b[39m})\n",
      "\u001b[0;31mTypeError\u001b[0m: can only concatenate str (not \"complex\") to str"
     ]
    }
   ],
   "source": [
    "a=2j\n",
    "b=-2j\n",
    "print(f\" 2j= {a**0.5}\\n-2j= {b**0.5})"
   ]
  },
  {
   "cell_type": "markdown",
   "id": "958789c2",
   "metadata": {},
   "source": [
    "6\\. Using arbitrary precision floating point numbers, calculate the square root of 3 to 75 decimal places."
   ]
  },
  {
   "cell_type": "code",
   "execution_count": 20,
   "id": "88572364",
   "metadata": {},
   "outputs": [
    {
     "name": "stdout",
     "output_type": "stream",
     "text": [
      " Sqrt of 3 to 75 decimal places = 1.73205080756887729352744634150587236694280525381038062805580697945193301691\n"
     ]
    }
   ],
   "source": [
    "from decimal import *\n",
    "getcontext().prec=75\n",
    "x=Decimal(3).sqrt()\n",
    "print(f\" Sqrt of 3 to 75 decimal places = {x}\")"
   ]
  },
  {
   "cell_type": "markdown",
   "id": "5038f162",
   "metadata": {},
   "source": [
    "7\\. If an initial amount A is invested for n years at an annual return of p percent, it will grow to A(1 + p/100)<sup>n</sup>. Create a table showing the growth of A over a 20 year period.  Right justify all values and be sure to create column headings indicating the years and amounts. Assume A = 100 and p = 5%."
   ]
  },
  {
   "cell_type": "code",
   "execution_count": null,
   "id": "72c70986",
   "metadata": {},
   "outputs": [],
   "source": [
    "A=100\n",
    "p=0.05\n",
    "n=20\n",
    "\n",
    "\n",
    "\n",
    "\n"
   ]
  }
 ],
 "metadata": {
  "kernelspec": {
   "display_name": "Python 3 (ipykernel)",
   "language": "python",
   "name": "python3"
  },
  "language_info": {
   "codemirror_mode": {
    "name": "ipython",
    "version": 3
   },
   "file_extension": ".py",
   "mimetype": "text/x-python",
   "name": "python",
   "nbconvert_exporter": "python",
   "pygments_lexer": "ipython3",
   "version": "3.8.2"
  }
 },
 "nbformat": 4,
 "nbformat_minor": 5
}
