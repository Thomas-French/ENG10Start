{
 "cells": [
  {
   "cell_type": "markdown",
   "id": "1ab6f563",
   "metadata": {},
   "source": [
    "<h2 align='center'>Weekly Python Assignment 1 for Group 3</h2>"
   ]
  },
  {
   "cell_type": "markdown",
   "id": "af8ba61c",
   "metadata": {},
   "source": [
    "<strong>Instructions:</strong> For each exercise below, type the requested code into the cell below the exercise, then run your code. <strong>If you don't see results when you run the cell, add a line to your code with a print statement and run the cell again."
   ]
  },
  {
   "cell_type": "markdown",
   "id": "d78b89e5",
   "metadata": {},
   "source": [
    "Example 1: Use Python as a calculator to find the difference between 23 and 14."
   ]
  },
  {
   "cell_type": "code",
   "execution_count": 84,
   "id": "b717d8c4",
   "metadata": {},
   "outputs": [
    {
     "data": {
      "text/plain": [
       "9"
      ]
     },
     "execution_count": 84,
     "metadata": {},
     "output_type": "execute_result"
    }
   ],
   "source": [
    "23 - 14   #  Output shows up when you run the cell."
   ]
  },
  {
   "cell_type": "markdown",
   "id": "8d76b9e0",
   "metadata": {},
   "source": [
    "Example 2: Set the variable named xzy equal to 25."
   ]
  },
  {
   "cell_type": "code",
   "execution_count": 85,
   "id": "b2eea7de",
   "metadata": {},
   "outputs": [
    {
     "name": "stdout",
     "output_type": "stream",
     "text": [
      "25\n"
     ]
    }
   ],
   "source": [
    "xyz = 25   # When you run this cell, nothing gets printed unless you add the print statement\n",
    "print(xyz)"
   ]
  },
  {
   "cell_type": "markdown",
   "id": "3f8f0bd2",
   "metadata": {},
   "source": [
    "1\\. Use Python as a calculator to create the string \"blahblahblahblahblah\" from the string \"blah\". First, use string addition.  Then do the same thing using string multiplication."
   ]
  },
  {
   "cell_type": "code",
   "execution_count": 86,
   "id": "50a932e8",
   "metadata": {},
   "outputs": [
    {
     "name": "stdout",
     "output_type": "stream",
     "text": [
      "Addition : blahblahblahblahblah\n",
      "Multiplication : blahblahblahblahblah\n"
     ]
    }
   ],
   "source": [
    "blah=\"blah\" #Creating string for blah\n",
    "addblah=blah+blah+blah+blah+blah #Creating the big string with addition\n",
    "multiblah=5*blah #Creating the big string with multiplication\n",
    "\n",
    "print(\"Addition : \"+addblah) #printing it\n",
    "print(\"Multiplication : \"+multiblah)"
   ]
  },
  {
   "cell_type": "markdown",
   "id": "5780e0c9",
   "metadata": {},
   "source": [
    "2\\. Assign the sum of the numbers 1, 2, 3 to the variable sum.  Why is this a bad name for a variable?"
   ]
  },
  {
   "cell_type": "code",
   "execution_count": 87,
   "id": "45128508",
   "metadata": {},
   "outputs": [],
   "source": [
    "sum=1+2+3 #this is a bad name because sum is a python keyword"
   ]
  },
  {
   "cell_type": "markdown",
   "id": "42ccc450",
   "metadata": {},
   "source": [
    "3\\. Use the integer 5 to create the string '55555'."
   ]
  },
  {
   "cell_type": "code",
   "execution_count": 88,
   "id": "fc68143d",
   "metadata": {},
   "outputs": [
    {
     "name": "stdout",
     "output_type": "stream",
     "text": [
      "55555\n"
     ]
    }
   ],
   "source": [
    "num=5 #creating the integer of 5 \n",
    "numstring=\"\" #creating a sting\n",
    "\n",
    "numstring=5*(str(num)) #casting the int as a string then multiplying it by 5 to the string\n",
    "\n",
    "print(numstring) #Printing it"
   ]
  },
  {
   "cell_type": "markdown",
   "id": "669b19dc",
   "metadata": {},
   "source": [
    "4\\. Print the multiplication table for the integers 1 through 12. All numbers should be right-justified with a field width of 4.."
   ]
  },
  {
   "cell_type": "code",
   "execution_count": 89,
   "id": "943e5c4a",
   "metadata": {},
   "outputs": [
    {
     "name": "stdout",
     "output_type": "stream",
     "text": [
      "12x12 Multiplication Table \n",
      "\n",
      "   1   2   3   4   5   6   7   8   9  10  11  12\n",
      "   2   4   6   8  10  12  14  16  18  20  22  24\n",
      "   3   6   9  12  15  18  21  24  27  30  33  36\n",
      "   4   8  12  16  20  24  28  32  36  40  44  48\n",
      "   5  10  15  20  25  30  35  40  45  50  55  60\n",
      "   6  12  18  24  30  36  42  48  54  60  66  72\n",
      "   7  14  21  28  35  42  49  56  63  70  77  84\n",
      "   8  16  24  32  40  48  56  64  72  80  88  96\n",
      "   9  18  27  36  45  54  63  72  81  90  99 108\n",
      "  10  20  30  40  50  60  70  80  90 100 110 120\n",
      "  11  22  33  44  55  66  77  88  99 110 121 132\n",
      "  12  24  36  48  60  72  84  96 108 120 132 144\n"
     ]
    }
   ],
   "source": [
    "\n",
    "print(\"12x12 Multiplication Table \\n\") #\n",
    "for i in range(1,13): #Going row by row\n",
    "    for j in range(1,13): #Going column by column\n",
    "        print(f\"{i*j : >4}\",end=\"\") #for every column and every row print the product of the row # and coluumn #\n",
    "                                    # >4 makes each product right-justified with a field width of 4\n",
    "                                    # end=\"\" keeps all products in a row on the same line\n",
    "    print(\"\") #for every new row go down a line"
   ]
  },
  {
   "cell_type": "markdown",
   "id": "afe2623c",
   "metadata": {},
   "source": [
    "5\\. Use complex multiplication to show that the square root of 2j is 1+j and the square root of -2j is 1-j."
   ]
  },
  {
   "cell_type": "code",
   "execution_count": 90,
   "id": "5744257d",
   "metadata": {},
   "outputs": [
    {
     "name": "stdout",
     "output_type": "stream",
     "text": [
      " 2j= (1.0000000000000002+1j)\n",
      "-2j= (-1.0000000000000002-1j)\n"
     ]
    }
   ],
   "source": [
    "\n",
    "a=2j**0.5 #using j to do complex multiplication raising to the 0.5 is the same as sqrt\n",
    "b=-2j**0.5 #same things but -2j\n",
    "\n",
    "print(f\" 2j= {a}\\n-2j= {b}\") #printing the results\n",
    "#there are floating point errors "
   ]
  },
  {
   "cell_type": "markdown",
   "id": "958789c2",
   "metadata": {},
   "source": [
    "6\\. Using arbitrary precision floating point numbers, calculate the square root of 3 to 75 decimal places."
   ]
  },
  {
   "cell_type": "code",
   "execution_count": 91,
   "id": "88572364",
   "metadata": {},
   "outputs": [
    {
     "name": "stdout",
     "output_type": "stream",
     "text": [
      " Sqrt of 3 to 75 decimal places = 1.73205080756887729352744634150587236694280525381038062805580697945193301691\n"
     ]
    }
   ],
   "source": [
    "from decimal import * # importing program that can use arbitrary precision\n",
    "getcontext().prec=75 #seting the percision to 75 decimal points\n",
    "x=Decimal(3).sqrt() #calculating the value\n",
    "print(f\" Sqrt of 3 to 75 decimal places = {x}\") #printing the value"
   ]
  },
  {
   "cell_type": "markdown",
   "id": "5038f162",
   "metadata": {},
   "source": [
    "7\\. If an initial amount A is invested for n years at an annual return of p percent, it will grow to A(1 + p/100)<sup>n</sup>. Create a table showing the growth of A over a 20 year period.  Right justify all values and be sure to create column headings indicating the years and amounts. Assume A = 100 and p = 5%."
   ]
  },
  {
   "cell_type": "code",
   "execution_count": 92,
   "id": "72c70986",
   "metadata": {},
   "outputs": [
    {
     "name": "stdout",
     "output_type": "stream",
     "text": [
      "  Year:          Amount:        \n",
      "       0                 100.0\n",
      "       1                 105.0\n",
      "       2                110.25\n",
      "       3    115.76250000000002\n",
      "       4    121.55062500000003\n",
      "       5    127.62815625000003\n",
      "       6    134.00956406250003\n",
      "       7    140.71004226562505\n",
      "       8     147.7455443789063\n",
      "       9    155.13282159785163\n",
      "      10     162.8894626777442\n",
      "      11     171.0339358116314\n",
      "      12      179.585632602213\n",
      "      13    188.56491423232367\n",
      "      14    197.99315994393987\n",
      "      15    207.89281794113688\n",
      "      16     218.2874588381937\n",
      "      17    229.20183178010342\n",
      "      18    240.66192336910856\n",
      "      19    252.69501953756404\n",
      "      20     265.3297705144422"
     ]
    }
   ],
   "source": [
    "A=100 #intial amount\n",
    "p=5 #percent p\n",
    "n=20 # number of years\n",
    "\n",
    "def growth(Amt):    #Function to calculate the amount given the data\n",
    "    return((Amt*((1+(p/100))**i))) #This runs the values through a function you can use \"{:.2f}\".format to round to the 2nd \n",
    "#dec if you want to have dollar and cent amount\n",
    "\n",
    "\n",
    "print(f\" {'Year:' : ^8}\",end=\"\") #Creating the column headings\n",
    "print(f\" {'Amount:' : ^22}\",end=\"\")\n",
    "for i in range(n+1): #Going row by row a new row being a new year\n",
    "    print(f\"\\n{i : >8}\",end=\"\") #puting the year in the first column\n",
    "    print(f\"{growth(A) : >22}\",end=\"\") #puting the value after using the function in the second column\n",
    "\n",
    "\n"
   ]
  },
  {
   "cell_type": "code",
   "execution_count": null,
   "id": "08107481-a8c5-471b-a853-405af134eda8",
   "metadata": {},
   "outputs": [],
   "source": []
  }
 ],
 "metadata": {
  "kernelspec": {
   "display_name": "Python 3 (ipykernel)",
   "language": "python",
   "name": "python3"
  },
  "language_info": {
   "codemirror_mode": {
    "name": "ipython",
    "version": 3
   },
   "file_extension": ".py",
   "mimetype": "text/x-python",
   "name": "python",
   "nbconvert_exporter": "python",
   "pygments_lexer": "ipython3",
   "version": "3.8.2"
  }
 },
 "nbformat": 4,
 "nbformat_minor": 5
}
